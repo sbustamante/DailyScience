{
 "metadata": {
  "name": "Athletic_Swimming_Equivalence.ipynb"
 },
 "nbformat": 3,
 "nbformat_minor": 0,
 "worksheets": [
  {
   "cells": [
    {
     "cell_type": "markdown",
     "metadata": {},
     "source": [
      "**Athletic-Swimming Equivalence**\n",
      "================================\n",
      "\n",
      "\n",
      "What is the equivalence regarding distance covered when you are swimming or you are jogging?\n",
      "Based on the most recent olympic records in athletics and swimming, I shall try to establish \n",
      "a broad-brush approach to the equivalence between the covered distance in both cases, even for\n",
      "different swimming strokes.\n",
      "\n",
      "Below I compile all the necessary olympic records, where it will be used the next notation:\n",
      "A(Athletics), SF(Swimming, free style), SC(Swimming, breaststroke), SM(Swimming, butterfly), \n",
      "SB(Swimming, backstroke). Regardind the gender, M and F."
     ]
    },
    {
     "cell_type": "code",
     "collapsed": false,
     "input": [
      "#Imports\n",
      "%pylab inline\n",
      "import numpy as np\n",
      "#Class\n",
      "class ListTable(list):\n",
      "    \"\"\" Overridden list class which takes a 2-dimensional list of \n",
      "        the form [[1,2,3],[4,5,6]], and renders an HTML Table in \n",
      "        IPython Notebook. \"\"\"\n",
      "    \n",
      "    def _repr_html_(self):\n",
      "        html = [\"<table>\"]\n",
      "        for row in self:\n",
      "            html.append(\"<tr>\")\n",
      "            \n",
      "            for col in row:\n",
      "                html.append(\"<td>{0}</td>\".format(col))\n",
      "            \n",
      "            html.append(\"</tr>\")\n",
      "        html.append(\"</table>\")\n",
      "        return ''.join(html)"
     ],
     "language": "python",
     "metadata": {},
     "outputs": [
      {
       "output_type": "stream",
       "stream": "stdout",
       "text": [
        "\n",
        "Welcome to pylab, a matplotlib-based Python environment [backend: module://IPython.zmq.pylab.backend_inline].\n",
        "For more information, type 'help(pylab)'.\n"
       ]
      }
     ],
     "prompt_number": 1
    },
    {
     "cell_type": "code",
     "collapsed": false,
     "input": [
      "#Male records for Athletics\n",
      "print( 'Male records for Athletics' )\n",
      "records_A_M = ListTable()\n",
      "records_A_M.append(['Distance [m]', 'Time [s]', 'Olympic event'])\n",
      "#Events\n",
      "records_A_M.append([100, 9.58, 'y'])\n",
      "records_A_M.append([200, 19.19, 'y'])\n",
      "records_A_M.append([400, 43.18, 'y'] )\n",
      "records_A_M.append([800, 100.91, 'y'])\n",
      "records_A_M.append([1000, 131.96, 'n'])\n",
      "records_A_M.append([1500, 206.00, 'y'])\n",
      "records_A_M.append([1609.3, 223.13, 'n'])\n",
      "records_A_M.append([2000, 284.79, 'n'])\n",
      "records_A_M.append([3000, 440.67, 'n'])\n",
      "records_A_M.append([5000, 757.35, 'y'])\n",
      "records_A_M.append([10000, 1577.53, 'y'])\n",
      "records_A_M.append([20000, 3386.00, 'n'])\n",
      "records_A_M.append([25000, 4345.40, 'n'])\n",
      "records_A_M.append([30000, 4345.40, 'n'])\n",
      "records_A_M.append([42195, 7203.23, 'y'])\n",
      "records_A_M.append([100000, 22413.40, 'n'])\n",
      "\n",
      "#Plain data\n",
      "A_M = np.array(records_A_M[1:])[:,(0,1)]\n",
      "#Print\n",
      "records_A_M"
     ],
     "language": "python",
     "metadata": {},
     "outputs": [
      {
       "output_type": "stream",
       "stream": "stdout",
       "text": [
        "Male records for Athletics\n"
       ]
      },
      {
       "html": [
        "<table><tr><td>Distance [m]</td><td>Time [s]</td><td>Olympic event</td></tr><tr><td>100</td><td>9.58</td><td>y</td></tr><tr><td>200</td><td>19.19</td><td>y</td></tr><tr><td>400</td><td>43.18</td><td>y</td></tr><tr><td>800</td><td>100.91</td><td>y</td></tr><tr><td>1000</td><td>131.96</td><td>n</td></tr><tr><td>1500</td><td>206.0</td><td>y</td></tr><tr><td>1609.3</td><td>223.13</td><td>n</td></tr><tr><td>2000</td><td>284.79</td><td>n</td></tr><tr><td>3000</td><td>440.67</td><td>n</td></tr><tr><td>5000</td><td>757.35</td><td>y</td></tr><tr><td>10000</td><td>1577.53</td><td>y</td></tr><tr><td>20000</td><td>3386.0</td><td>n</td></tr><tr><td>25000</td><td>4345.4</td><td>n</td></tr><tr><td>30000</td><td>4345.4</td><td>n</td></tr><tr><td>42195</td><td>7203.23</td><td>y</td></tr><tr><td>100000</td><td>22413.4</td><td>n</td></tr></table>"
       ],
       "output_type": "pyout",
       "prompt_number": 5,
       "text": [
        "[['Distance [m]', 'Time [s]', 'Olympic event'],\n",
        " [100, 9.58, 'y'],\n",
        " [200, 19.19, 'y'],\n",
        " [400, 43.18, 'y'],\n",
        " [800, 100.91, 'y'],\n",
        " [1000, 131.96, 'n'],\n",
        " [1500, 206.0, 'y'],\n",
        " [1609.3, 223.13, 'n'],\n",
        " [2000, 284.79, 'n'],\n",
        " [3000, 440.67, 'n'],\n",
        " [5000, 757.35, 'y'],\n",
        " [10000, 1577.53, 'y'],\n",
        " [20000, 3386.0, 'n'],\n",
        " [25000, 4345.4, 'n'],\n",
        " [30000, 4345.4, 'n'],\n",
        " [42195, 7203.23, 'y'],\n",
        " [100000, 22413.4, 'n']]"
       ]
      }
     ],
     "prompt_number": 5
    },
    {
     "cell_type": "code",
     "collapsed": false,
     "input": [
      "#Female records for Athletics\n",
      "print( 'Female records for Athletics' )\n",
      "records_A_F = ListTable()\n",
      "records_A_F.append(['Distance [m]', 'Time [s]', 'Olympic event'])\n",
      "#Events\n",
      "records_A_F.append([100, 10.49, 'y'])\n",
      "records_A_F.append([200, 21.34, 'y'])\n",
      "records_A_F.append([300, 35.30, 'n'] )\n",
      "records_A_F.append([400, 47.60, 'y'] )\n",
      "records_A_F.append([800, 113.28, 'y'])\n",
      "records_A_F.append([1000, 148.98, 'n'])\n",
      "records_A_F.append([1500, 230.46, 'y'])\n",
      "records_A_F.append([1609.3, 252.56, 'n'])\n",
      "records_A_F.append([2000, 325.36, 'n'])\n",
      "records_A_F.append([3000, 486.11, 'n'])\n",
      "records_A_F.append([5000, 851.15, 'y'])\n",
      "records_A_F.append([10000, 1771.78, 'y'])\n",
      "records_A_F.append([20000, 3926.60, 'n'])\n",
      "records_A_F.append([25000, 5225.90, 'n'])\n",
      "records_A_F.append([30000, 6350.00, 'n'])\n",
      "records_A_F.append([42195, 8125.00, 'y'])\n",
      "records_A_F.append([100000, 23591.00, 'n'])\n",
      "\n",
      "#Plain data\n",
      "A_F = np.array(records_A_F[1:])[:,(0,1)]\n",
      "#Print\n",
      "records_A_F"
     ],
     "language": "python",
     "metadata": {},
     "outputs": [
      {
       "output_type": "stream",
       "stream": "stdout",
       "text": [
        "Female records for Athletics\n"
       ]
      },
      {
       "html": [
        "<table><tr><td>Distance [m]</td><td>Time [s]</td><td>Olympic event</td></tr><tr><td>100</td><td>10.49</td><td>y</td></tr><tr><td>200</td><td>21.34</td><td>y</td></tr><tr><td>300</td><td>35.3</td><td>n</td></tr><tr><td>400</td><td>47.6</td><td>y</td></tr><tr><td>800</td><td>113.28</td><td>y</td></tr><tr><td>1000</td><td>148.98</td><td>n</td></tr><tr><td>1500</td><td>230.46</td><td>y</td></tr><tr><td>1609.3</td><td>252.56</td><td>n</td></tr><tr><td>2000</td><td>325.36</td><td>n</td></tr><tr><td>3000</td><td>486.11</td><td>n</td></tr><tr><td>5000</td><td>851.15</td><td>y</td></tr><tr><td>10000</td><td>1771.78</td><td>y</td></tr><tr><td>20000</td><td>3926.6</td><td>n</td></tr><tr><td>25000</td><td>5225.9</td><td>n</td></tr><tr><td>30000</td><td>6350.0</td><td>n</td></tr><tr><td>42195</td><td>8125.0</td><td>y</td></tr><tr><td>100000</td><td>23591.0</td><td>n</td></tr></table>"
       ],
       "output_type": "pyout",
       "prompt_number": 7,
       "text": [
        "[['Distance [m]', 'Time [s]', 'Olympic event'],\n",
        " [100, 10.49, 'y'],\n",
        " [200, 21.34, 'y'],\n",
        " [300, 35.3, 'n'],\n",
        " [400, 47.6, 'y'],\n",
        " [800, 113.28, 'y'],\n",
        " [1000, 148.98, 'n'],\n",
        " [1500, 230.46, 'y'],\n",
        " [1609.3, 252.56, 'n'],\n",
        " [2000, 325.36, 'n'],\n",
        " [3000, 486.11, 'n'],\n",
        " [5000, 851.15, 'y'],\n",
        " [10000, 1771.78, 'y'],\n",
        " [20000, 3926.6, 'n'],\n",
        " [25000, 5225.9, 'n'],\n",
        " [30000, 6350.0, 'n'],\n",
        " [42195, 8125.0, 'y'],\n",
        " [100000, 23591.0, 'n']]"
       ]
      }
     ],
     "prompt_number": 7
    },
    {
     "cell_type": "code",
     "collapsed": false,
     "input": [
      "plt.figure( figsize=(8,8) )\n",
      "plt.loglog(A_M.T[0], A_M.T[1], 'o-')\n",
      "plt.loglog(A_F.T[0], A_F.T[1], 'o-')"
     ],
     "language": "python",
     "metadata": {},
     "outputs": [
      {
       "output_type": "pyout",
       "prompt_number": 19,
       "text": [
        "[<matplotlib.lines.Line2D at 0x5c02790>]"
       ]
      },
      {
       "output_type": "display_data",
       "png": "[encoded data removed]"
      }
     ],
     "prompt_number": 19
    }
   ],
   "metadata": {}
  }
 ]
}