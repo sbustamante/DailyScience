{
 "metadata": {
  "name": "Exoplanets_Analysis"
 },
 "nbformat": 3,
 "nbformat_minor": 0,
 "worksheets": [
  {
   "cells": [
    {
     "cell_type": "markdown",
     "metadata": {},
     "source": [
      "**Exoplanets Analysis**\n",
      "================================\n",
      "\n",
      "\n",
      "With the current boom of exoplanets, it is interesting to analyse how the resolution of some properties has been increasing along time.\n",
      "Data has been taken of http://exoplanet.eu/catalog/"
     ]
    },
    {
     "cell_type": "code",
     "collapsed": false,
     "input": [
      "import numpy as np\n",
      "import matplotlib as plt\n",
      "\n",
      "\"\"\"Loading data\n",
      "Format\n",
      "1mass, 2mass_error_min, 3mass_error_max, 4radius, 5radius_error_min, 6radius_error_max, 7orbital_period, 10semi_major_axis,\n",
      "13eccentricity, 37discovered, 50mag_v, 55star_distance, 56star_metallicity, 57star_mass, 58star_radius, 60star_age\n",
      "\"\"\"\n",
      "exoplanets = np.loadtxt( \"exoplanet.eu_catalog.csv\", delimiter=\",\", usecols=(1,2,3,4,5,6,7,10,13,37,50,55,56,57,58,60) )\n",
      "\n"
     ],
     "language": "python",
     "metadata": {},
     "outputs": []
    }
   ],
   "metadata": {}
  }
 ]
}